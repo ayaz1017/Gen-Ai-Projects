{
  "nbformat": 4,
  "nbformat_minor": 0,
  "metadata": {
    "colab": {
      "provenance": []
    },
    "kernelspec": {
      "name": "python3",
      "display_name": "Python 3"
    },
    "language_info": {
      "name": "python"
    }
  },
  "cells": [
    {
      "cell_type": "markdown",
      "source": [
        "# LinkedIn Post Generator App\n",
        "\n",
        "Here we will build an AI Application using Gemini, LangChain and Streamlit with the following features:\n",
        "\n",
        "- Custom Landing Page\n",
        "- LinkedIn Post Generation\n",
        "- Streamlit features"
      ],
      "metadata": {
        "id": "xPRVq3e03c1K"
      }
    },
    {
      "cell_type": "markdown",
      "source": [
        "## Install App and LLM dependencies"
      ],
      "metadata": {
        "id": "L1KvMtf54l0d"
      }
    },
    {
      "cell_type": "code",
      "source": [
        "!pip install langchain==0.1.12 -q\n",
        "!pip install langchain-google-genai==0.0.7 -q\n",
        "!pip install langchain-community==0.0.29 -q\n",
        "!pip install streamlit==1.32.2 -q\n",
        "!pip install pyngrok==7.1.5 -q\n",
        "!pip install google-generativeai>=0.3.2 -q"
      ],
      "metadata": {
        "id": "2evPp14fy258"
      },
      "execution_count": 26,
      "outputs": []
    },
    {
      "cell_type": "markdown",
      "source": [
        "## Load Gemini API Credentials\n",
        "\n",
        "Here we load it from a file so we don't explore the credentials on the internet by mistake"
      ],
      "metadata": {
        "id": "CiwGjVWK4q6F"
      }
    },
    {
      "cell_type": "code",
      "source": [
        "import os\n",
        "from google.colab import userdata\n",
        "os.environ['GOOGLE_API_KEY'] = userdata.get('GEMINI_API_KEY')"
      ],
      "metadata": {
        "id": "kDe44J0N0NcC"
      },
      "execution_count": 27,
      "outputs": []
    },
    {
      "cell_type": "code",
      "source": [
        "%%writefile instagram_app.py\n",
        "\n",
        "import streamlit as st\n",
        "from langchain_google_genai import ChatGoogleGenerativeAI\n",
        "from langchain.prompts import ChatPromptTemplate\n",
        "from langchain.schema import SystemMessage, HumanMessage\n",
        "\n",
        "st.title(\"Instagram Post Generator\")\n",
        "\n",
        "# System prompt that defines the app's behavior\n",
        "system_prompt = \"\"\"\n",
        "You are a creative Instagram post generator.\n",
        "Your job is to write engaging Instagram captions or short posts based on the user's topic.\n",
        "\n",
        "\n",
        "Guidelines:\n",
        "- Keep the caption within 100-150 words\n",
        "- Use emojis where appropriate (but not overused)\n",
        "- Include 5-8 popular and relevant hashtags\n",
        "- Maintain a casual, fun, and relatable tone\n",
        "- Write like a real person, not a brand\n",
        "- Add a question or CTA at the end if possible\n",
        "\n",
        "The user will provide a topic or photo description. Your output should be formatted as a ready-to-post caption.\n",
        "\"\"\"\n",
        "\n",
        "# Initialize the LLM\n",
        "gemini = ChatGoogleGenerativeAI(\n",
        "    model='gemini-2.0-flash-thinking-exp-01-21',\n",
        "    temperature=0.8,\n",
        "    convert_system_message_to_human=True\n",
        ")\n",
        "\n",
        "# Create the prompt template\n",
        "prompt_template = ChatPromptTemplate.from_messages([\n",
        "    (\"system\", system_prompt),\n",
        "    (\"human\", \"{user_input}\")\n",
        "])\n",
        "# App description\n",
        "st.markdown(\"### Create Instagram captions with a creative twist using AI\")\n",
        "st.markdown(\"Enter a topic or photo description to generate a post-worthy caption!\")\n",
        "\n",
        "# Input area with specific placeholder text\n",
        "user_input = st.text_area(\"What's the post about?\",\n",
        "                          placeholder=\"Example: A sunset photo I clicked in Goa last weekend\",\n",
        "                          height=100)\n",
        "\n",
        "# Generate button\n",
        "if st.button(\"Generate Instagram Post\"):\n",
        "    if user_input:\n",
        "        with st.spinner(\"Crafting your Insta caption...\"):\n",
        "            messages = prompt_template.format_messages(user_input=user_input)\n",
        "            response = gemini.invoke(messages)\n",
        "\n",
        "            st.markdown(\"### Your Instagram Caption:\")\n",
        "            st.markdown(response.content)\n",
        "            st.markdown(\"---\")\n",
        "            st.markdown(\"Copy it, post it, and tag us if you love it! 📸\")\n",
        "    else:\n",
        "        st.error(\"Please describe your post topic or photo to get started.\")"
      ],
      "metadata": {
        "colab": {
          "base_uri": "https://localhost:8080/"
        },
        "id": "2HSQiIgGTcKg",
        "outputId": "2b74a01c-fbea-4237-be01-47d21e261f95"
      },
      "execution_count": 28,
      "outputs": [
        {
          "output_type": "stream",
          "name": "stdout",
          "text": [
            "Overwriting instagram_app.py\n"
          ]
        }
      ]
    },
    {
      "cell_type": "code",
      "source": [
        "#from pyngrok import ngrok\n",
        "\n",
        "# Terminate open tunnels if exist\n",
        "#ngrok.kill()\n",
        "\n",
        "#ngrok.set_auth_token(userdata.get('NGROK_API_KEY'))\n",
        "\n",
        "# Open an HTTPs tunnel on port XXXX which you get from your `logs.txt` file\n",
        "#ngrok_tunnel = ngrok.connect(8989)\n",
        "#print(\"Streamlit App:\", ngrok_tunnel.public_url)"
      ],
      "metadata": {
        "id": "zEZiliiRVBpV"
      },
      "execution_count": 29,
      "outputs": []
    },
    {
      "cell_type": "code",
      "source": [
        "from pyngrok import ngrok\n",
        "import os\n",
        "from google.colab import userdata\n",
        "\n",
        "# Kill any existing ngrok tunnels\n",
        "ngrok.kill()\n",
        "\n",
        "# Set NGROK auth token securely from your Colab secrets\n",
        "ngrok.set_auth_token(userdata.get('NGROK_API_KEY'))\n",
        "\n",
        "# Define the port Streamlit will run on\n",
        "port = 8501\n",
        "\n",
        "# Create HTTPS tunnel for Streamlit app\n",
        "public_url = ngrok.connect(port, \"http\")\n",
        "print(f\"🌐 Streamlit App is live at: {public_url.public_url}\")\n",
        "\n",
        "# Save to environment so Streamlit knows which port to use\n",
        "os.environ[\"STREAMLIT_SERVER_PORT\"] = str(port)\n",
        "os.environ[\"STREAMLIT_SERVER_HEADLESS\"] = \"true\"\n"
      ],
      "metadata": {
        "colab": {
          "base_uri": "https://localhost:8080/"
        },
        "id": "t5xLO9ft1XH1",
        "outputId": "b75e9181-31b1-4a4c-ae69-69da519c800d"
      },
      "execution_count": 30,
      "outputs": [
        {
          "output_type": "stream",
          "name": "stdout",
          "text": [
            "🌐 Streamlit App is live at: https://efa6-34-141-165-19.ngrok-free.app\n"
          ]
        }
      ]
    },
    {
      "cell_type": "code",
      "source": [
        "!streamlit run instagram_app.py > /dev/null 2>&1 &\n"
      ],
      "metadata": {
        "id": "rq6_vmR61fzu"
      },
      "execution_count": 31,
      "outputs": []
    },
    {
      "cell_type": "markdown",
      "source": [
        "## Remove running app processes"
      ],
      "metadata": {
        "id": "I_k4wNzQMrcF"
      }
    }
  ]
}